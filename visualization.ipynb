{
 "cells": [
  {
   "cell_type": "markdown",
   "metadata": {},
   "source": [
    "# Code for Drawing All the Plots"
   ]
  },
  {
   "cell_type": "markdown",
   "metadata": {},
   "source": [
    "## Load CSV Data"
   ]
  },
  {
   "cell_type": "code",
   "execution_count": 1,
   "metadata": {},
   "outputs": [],
   "source": [
    "import csv\n",
    "\n",
    "csvData = []\n",
    "\n",
    "with open('result/repo_info_selected_edited.csv') as csvFile:\n",
    "    csvReader = csv.DictReader(csvFile)\n",
    "    for row in csvReader:\n",
    "        csvData.append(row)"
   ]
  },
  {
   "cell_type": "markdown",
   "metadata": {},
   "source": [
    "## Load JSON Data"
   ]
  },
  {
   "cell_type": "code",
   "execution_count": 2,
   "metadata": {},
   "outputs": [],
   "source": [
    "import json\n",
    "\n",
    "jsonData = []\n",
    "\n",
    "with open('temp/repo_info_selected.json') as jsonFile:\n",
    "    jsonData = json.load(jsonFile)"
   ]
  },
  {
   "cell_type": "markdown",
   "metadata": {},
   "source": [
    "## Initialize Matplotlib for Producing Figures in Latex"
   ]
  },
  {
   "cell_type": "code",
   "execution_count": 8,
   "metadata": {},
   "outputs": [],
   "source": [
    "import matplotlib\n",
    "matplotlib.rcParams['pdf.fonttype'] = 42\n",
    "matplotlib.rcParams['ps.fonttype'] = 42"
   ]
  },
  {
   "cell_type": "markdown",
   "metadata": {},
   "source": [
    "## Distribution of Comment Density for Different Language"
   ]
  },
  {
   "cell_type": "code",
   "execution_count": 4,
   "metadata": {},
   "outputs": [
    {
     "data": {
      "text/plain": [
       "<Figure size 640x480 with 1 Axes>"
      ]
     },
     "metadata": {},
     "output_type": "display_data"
    }
   ],
   "source": [
    "import matplotlib.pyplot as plt\n",
    "\n",
    "langs = ['Python', 'Java', 'C++', 'JavaScript', 'Go']\n",
    "dist = {}\n",
    "for lang in langs:\n",
    "    dist[lang] = [float(row['comment_ratio']) for row in csvData if row['language'] == lang]\n",
    "plt.hist(dist['JavaScript'], 10)\n",
    "plt.show()"
   ]
  },
  {
   "cell_type": "markdown",
   "metadata": {},
   "source": [
    "## Average comment density of different language"
   ]
  },
  {
   "cell_type": "code",
   "execution_count": 5,
   "metadata": {},
   "outputs": [],
   "source": [
    "import numpy as np\n",
    "import matplotlib.pyplot as plt\n",
    "\n",
    "def extract(lang, key):\n",
    "    return np.array([float(row[key]) for row in csvData if row['language'] == lang])\n",
    "\n",
    "langs = ['Python', 'Java', 'C++', 'JavaScript', 'Go']\n",
    "comment_densities = [extract(lang, 'comment_ratio') for lang in langs]\n",
    "avgs = [np.average(a) for a in comment_densities]\n",
    "medians = [np.median(a) for a in comment_densities]\n",
    "variances = [np.var(a) for a in comment_densities]"
   ]
  },
  {
   "cell_type": "code",
   "execution_count": 93,
   "metadata": {},
   "outputs": [
    {
     "data": {
      "text/plain": [
       "[0.3525416864333334,\n",
       " 0.29399548046666674,\n",
       " 0.1424895722,\n",
       " 0.16026265626666666,\n",
       " 0.14789911586666668]"
      ]
     },
     "execution_count": 93,
     "metadata": {},
     "output_type": "execute_result"
    }
   ],
   "source": [
    "avgs"
   ]
  },
  {
   "cell_type": "code",
   "execution_count": 94,
   "metadata": {},
   "outputs": [
    {
     "data": {
      "text/plain": [
       "[0.2640942395, 0.255118774, 0.1386390515, 0.1546521005, 0.13934088]"
      ]
     },
     "execution_count": 94,
     "metadata": {},
     "output_type": "execute_result"
    }
   ],
   "source": [
    "medians"
   ]
  },
  {
   "cell_type": "code",
   "execution_count": 95,
   "metadata": {},
   "outputs": [
    {
     "data": {
      "text/plain": [
       "[0.08098209571192999,\n",
       " 0.061977219962504014,\n",
       " 0.0025379404059735103,\n",
       " 0.011386012040948114,\n",
       " 0.0033611595655458943]"
      ]
     },
     "execution_count": 95,
     "metadata": {},
     "output_type": "execute_result"
    }
   ],
   "source": [
    "variances"
   ]
  },
  {
   "cell_type": "code",
   "execution_count": 8,
   "metadata": {},
   "outputs": [
    {
     "data": {
      "text/plain": [
       "[[1.0,\n",
       "  0.4420179139756857,\n",
       "  0.0003877821295709836,\n",
       "  0.003419010448554348,\n",
       "  0.000833930330010351],\n",
       " [0.4420179139756857,\n",
       "  1.0,\n",
       "  0.002688839981756471,\n",
       "  0.011466967943295216,\n",
       "  0.004325494122990468],\n",
       " [0.0003877821295709836,\n",
       "  0.002688839981756471,\n",
       "  1.0,\n",
       "  0.72271979157106,\n",
       "  0.7562013389413471],\n",
       " [0.003419010448554348,\n",
       "  0.011466967943295216,\n",
       "  0.72271979157106,\n",
       "  1.0,\n",
       "  0.9764109078760824],\n",
       " [0.000833930330010351,\n",
       "  0.004325494122990468,\n",
       "  0.7562013389413471,\n",
       "  0.9764109078760824,\n",
       "  1.0]]"
      ]
     },
     "execution_count": 8,
     "metadata": {},
     "output_type": "execute_result"
    }
   ],
   "source": [
    "from scipy import stats\n",
    "# Conduct Wilcoxon rank-sum test for all languages\n",
    "pvalues = []\n",
    "for i in range(len(langs)):\n",
    "    row = []\n",
    "    for j in range(len(langs)):\n",
    "        lang1 = langs[i]\n",
    "        lang2 = langs[j]\n",
    "        statistics, pvalue = stats.ranksums(comment_densities[i], comment_densities[j])\n",
    "        row.append(pvalue)\n",
    "    pvalues.append(row)\n",
    "pvalues"
   ]
  },
  {
   "cell_type": "code",
   "execution_count": 9,
   "metadata": {},
   "outputs": [
    {
     "data": {
      "image/png": "[encoded data removed]",
      "text/plain": [
       "<Figure size 288x216 with 1 Axes>"
      ]
     },
     "metadata": {
      "needs_background": "light"
     },
     "output_type": "display_data"
    }
   ],
   "source": [
    "plt.figure(figsize=(4,3))\n",
    "plt.bar([1,6,11,16,21], avgs, width=2, align='center', label='Average')\n",
    "plt.bar([3,8,13,18,23], medians, width=2, align='center', label='Median')\n",
    "plt.xticks([2,7,12,17,22], langs)\n",
    "plt.xlabel('Programming Language')\n",
    "plt.ylabel('Comment Density')\n",
    "plt.legend()\n",
    "# plt.title('Comment Density in Different Languages')\n",
    "plt.savefig('result/figures/cd_by_lang.pdf', bbox_inches='tight')\n",
    "plt.show()"
   ]
  },
  {
   "cell_type": "markdown",
   "metadata": {},
   "source": [
    "## Difference in Comment Density for Different Type of Projects"
   ]
  },
  {
   "cell_type": "code",
   "execution_count": 25,
   "metadata": {},
   "outputs": [
    {
     "data": {
      "text/plain": [
       "[0.26503249733333334, 0.15745616925, 0.1907707562, 0.1050035058]"
      ]
     },
     "execution_count": 25,
     "metadata": {},
     "output_type": "execute_result"
    }
   ],
   "source": [
    "import numpy as np\n",
    "import matplotlib.pyplot as plt\n",
    "\n",
    "def extract(lang, type_):\n",
    "    return [float(row['comment_ratio']) \n",
    "         for row in csvData \n",
    "         if row['language'] == lang and row['type'] == type_]\n",
    "\n",
    "types = ['tutorial', 'framework', 'library', 'app']\n",
    "cd_java = [np.array(extract('Java', t)) for t in types];\n",
    "cd_js = [np.array(extract('JavaScript', t)) for t in types];\n",
    "avgs_java = [np.average(a) for a in cd_java]\n",
    "avgs_js = [np.average(a) for a in cd_js]\n",
    "\n",
    "tmp = extract('JavaScript', 'framework')\n",
    "tmp.extend(extract('JavaScript', 'library'))\n",
    "np.mean(tmp)\n",
    "avgs_js"
   ]
  },
  {
   "cell_type": "code",
   "execution_count": 21,
   "metadata": {},
   "outputs": [
    {
     "data": {
      "text/plain": [
       "[[1.0, 0.17452534056858338, 0.18644918121998122, 0.10105025592540995],\n",
       " [0.17452534056858338, 1.0, 0.6797081543484927, 0.025347318677468252],\n",
       " [0.18644918121998122, 0.6797081543484927, 1.0, 0.010126539818322079],\n",
       " [0.10105025592540995, 0.025347318677468252, 0.010126539818322079, 1.0]]"
      ]
     },
     "execution_count": 21,
     "metadata": {},
     "output_type": "execute_result"
    }
   ],
   "source": [
    "from scipy import stats\n",
    "# Conduct Wilcoxon rank-sum test for Java\n",
    "pvalues = []\n",
    "for i in range(len(types)):\n",
    "    row = []\n",
    "    for j in range(len(types)):\n",
    "        type1 = types[i]\n",
    "        type2 = types[j]\n",
    "        statistics, pvalue = stats.ranksums(cd_java[i], cd_java[j])\n",
    "        row.append(pvalue)\n",
    "    pvalues.append(row)\n",
    "pvalues"
   ]
  },
  {
   "cell_type": "code",
   "execution_count": 108,
   "metadata": {},
   "outputs": [
    {
     "data": {
      "image/png": "[encoded data removed]",
      "text/plain": [
       "<Figure size 432x288 with 1 Axes>"
      ]
     },
     "metadata": {
      "needs_background": "light"
     },
     "output_type": "display_data"
    }
   ],
   "source": [
    "plt.bar([i for i in range(0, 4)], avgs_js, width=0.4, label=\"JavaScript\")\n",
    "plt.bar([i+0.4 for i in range(0, 4)], avgs_java, width=0.4, label=\"Java\")\n",
    "plt.xticks([i+0.2 for i in range(0, 4)], types)\n",
    "plt.title('Average Comment Density in Different Type of Projects')\n",
    "plt.xlabel('Project Type')\n",
    "plt.ylabel('Comment Density')\n",
    "plt.legend()\n",
    "plt.savefig('result/figures/avg_cd_java_js.pdf', bbox_inches='tight')\n",
    "plt.show()"
   ]
  },
  {
   "cell_type": "markdown",
   "metadata": {},
   "source": [
    "## Relationship between Comment Density and Number of Contributors"
   ]
  },
  {
   "cell_type": "code",
   "execution_count": 10,
   "metadata": {},
   "outputs": [
    {
     "data": {
      "image/png": "[encoded data removed]",
      "text/plain": [
       "<Figure size 288x216 with 1 Axes>"
      ]
     },
     "metadata": {
      "needs_background": "light"
     },
     "output_type": "display_data"
    }
   ],
   "source": [
    "import matplotlib.pyplot as plt\n",
    "\n",
    "langs = ['Python', 'Java', 'C++', 'JavaScript', 'Go']\n",
    "comment_densities = [[float(row['comment_ratio']) \n",
    "                          for row in csvData if row['language'] == lang] \n",
    "                     for lang in langs]\n",
    "contributors = [[float(row['contributors']) \n",
    "                     for row in csvData if row['language'] == lang] \n",
    "                for lang in langs]\n",
    "\n",
    "markers = ['o', '^', '8', 's', '*']\n",
    "plt.figure(figsize=(4,3))\n",
    "for i in range(len(langs)):\n",
    "    plt.scatter(contributors[i], comment_densities[i], label=langs[i], marker=markers[i])\n",
    "plt.legend()\n",
    "plt.xlabel('Contributors')\n",
    "plt.ylabel('Comment Density')\n",
    "# plt.title('Relationship between Contributors and Comment Density')\n",
    "plt.savefig('result/figures/cd_contrb.pdf', bbox_inches='tight')\n",
    "plt.show()"
   ]
  },
  {
   "cell_type": "code",
   "execution_count": 181,
   "metadata": {},
   "outputs": [
    {
     "data": {
      "image/png": "[encoded data removed]",
      "text/plain": [
       "<Figure size 432x288 with 1 Axes>"
      ]
     },
     "metadata": {
      "needs_background": "light"
     },
     "output_type": "display_data"
    }
   ],
   "source": [
    "langs = ['Python', 'Java', 'C++', 'JavaScript', 'Go']\n",
    "comment_densities = [[float(row['comment_ratio']) \n",
    "                          for row in csvData if row['language'] == lang] \n",
    "                     for lang in langs]\n",
    "core_contributors = {\n",
    "    'Python': [],\n",
    "    'Java': [],\n",
    "    'C++': [],\n",
    "    'JavaScript': [],\n",
    "    'Go': []\n",
    "}\n",
    "\n",
    "for row in csvData:\n",
    "    for data in jsonData:\n",
    "        if data['full_name'] != row['full_name']:\n",
    "            continue\n",
    "        core_contrib = 0\n",
    "        contributor_list = data['contributors']\n",
    "        leader_contribution = contributor_list[0]['contributions']\n",
    "        for c in contributor_list:\n",
    "            if c['contributions'] > 1 and c['contributions'] > 0.05 * leader_contribution:\n",
    "                core_contrib += 1\n",
    "        core_contributors[row['language']].append(core_contrib)\n",
    "   \n",
    "markers = ['o', '^', '8', 's', '*']\n",
    "for i in range(len(langs)):\n",
    "    plt.scatter(core_contributors[langs[i]], comment_densities[i], s=15, label=langs[i], marker=markers[i])\n",
    "plt.legend()\n",
    "plt.xlabel('Core Contributors')\n",
    "plt.ylabel('Comment Density')\n",
    "plt.title('Relationship between Core Contributors and Comment Density')\n",
    "plt.savefig('result/figures/cd_core_contrib.pdf', bbox_inches='tight')\n",
    "plt.show()"
   ]
  },
  {
   "cell_type": "markdown",
   "metadata": {},
   "source": [
    "## Relationship between Project Size and Comment Density"
   ]
  },
  {
   "cell_type": "code",
   "execution_count": 189,
   "metadata": {},
   "outputs": [
    {
     "data": {
      "image/png": "[encoded data removed]",
      "text/plain": [
       "<Figure size 432x288 with 1 Axes>"
      ]
     },
     "metadata": {
      "needs_background": "light"
     },
     "output_type": "display_data"
    }
   ],
   "source": [
    "import matplotlib.pyplot as plt\n",
    "import math\n",
    "\n",
    "langs = ['Python', 'Java', 'C++', 'JavaScript', 'Go']\n",
    "comment_densities = [[float(row['comment_ratio']) \n",
    "                          for row in csvData if row['language'] == lang] \n",
    "                     for lang in langs]\n",
    "lines_of_code = [[float(row['lines_code']) \n",
    "                     for row in csvData if row['language'] == lang] \n",
    "                for lang in langs]\n",
    "log_loc = [[math.log(i+1) for i in a] for a in lines_of_code]\n",
    "\n",
    "markers = ['o', '^', '8', 's', '*']\n",
    "for i in range(len(langs)):\n",
    "    plt.scatter(log_loc[i], comment_densities[i], label=langs[i], marker=markers[i])\n",
    "plt.legend()\n",
    "plt.xlabel('Lines of Code(in log)')\n",
    "plt.ylabel('Comment Density')\n",
    "plt.title('Relationship between LOC and Comment Density')\n",
    "plt.savefig('result/figures/cd_loc.pdf', bbox_inches='tight')\n",
    "plt.show()"
   ]
  },
  {
   "cell_type": "code",
   "execution_count": null,
   "metadata": {},
   "outputs": [],
   "source": []
  },
  {
   "cell_type": "code",
   "execution_count": null,
   "metadata": {},
   "outputs": [],
   "source": []
  }
 ],
 "metadata": {
  "kernelspec": {
   "display_name": "Python 3",
   "language": "python",
   "name": "python3"
  },
  "language_info": {
   "codemirror_mode": {
    "name": "ipython",
    "version": 3
   },
   "file_extension": ".py",
   "mimetype": "text/x-python",
   "name": "python",
   "nbconvert_exporter": "python",
   "pygments_lexer": "ipython3",
   "version": "3.6.8"
  }
 },
 "nbformat": 4,
 "nbformat_minor": 2
}
