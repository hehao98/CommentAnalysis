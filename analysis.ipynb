{
 "cells": [
  {
   "cell_type": "markdown",
   "metadata": {},
   "source": [
    "# Code for Drawing All the Plots"
   ]
  },
  {
   "cell_type": "markdown",
   "metadata": {},
   "source": [
    "## Load CSV Data"
   ]
  },
  {
   "cell_type": "code",
   "execution_count": 91,
   "metadata": {},
   "outputs": [],
   "source": [
    "import csv\n",
    "\n",
    "csvData = []\n",
    "\n",
    "with open('result/repo_info_selected_edited.csv') as csvFile:\n",
    "    csvReader = csv.DictReader(csvFile)\n",
    "    for row in csvReader:\n",
    "        csvData.append(row)"
   ]
  },
  {
   "cell_type": "markdown",
   "metadata": {},
   "source": [
    "## Average comment density of different language"
   ]
  },
  {
   "cell_type": "code",
   "execution_count": 92,
   "metadata": {},
   "outputs": [],
   "source": [
    "import numpy as np\n",
    "import matplotlib.pyplot as plt\n",
    "\n",
    "def extract(lang, key):\n",
    "    return np.array([float(row[key]) for row in csvData if row['language'] == lang])\n",
    "\n",
    "langs = ['Python', 'Java', 'C++', 'JavaScript', 'Go']\n",
    "comment_densities = [extract(lang, 'comment_ratio') for lang in langs]\n",
    "avgs = [np.average(a) for a in comment_densities]\n",
    "medians = [np.median(a) for a in comment_densities]\n",
    "variances = [np.var(a) for a in comment_densities]"
   ]
  },
  {
   "cell_type": "code",
   "execution_count": 93,
   "metadata": {},
   "outputs": [
    {
     "data": {
      "text/plain": [
       "[0.3525416864333334,\n",
       " 0.29399548046666674,\n",
       " 0.1424895722,\n",
       " 0.16026265626666666,\n",
       " 0.14789911586666668]"
      ]
     },
     "execution_count": 93,
     "metadata": {},
     "output_type": "execute_result"
    }
   ],
   "source": [
    "avgs"
   ]
  },
  {
   "cell_type": "code",
   "execution_count": 94,
   "metadata": {},
   "outputs": [
    {
     "data": {
      "text/plain": [
       "[0.2640942395, 0.255118774, 0.1386390515, 0.1546521005, 0.13934088]"
      ]
     },
     "execution_count": 94,
     "metadata": {},
     "output_type": "execute_result"
    }
   ],
   "source": [
    "medians"
   ]
  },
  {
   "cell_type": "code",
   "execution_count": 95,
   "metadata": {},
   "outputs": [
    {
     "data": {
      "text/plain": [
       "[0.08098209571192999,\n",
       " 0.061977219962504014,\n",
       " 0.0025379404059735103,\n",
       " 0.011386012040948114,\n",
       " 0.0033611595655458943]"
      ]
     },
     "execution_count": 95,
     "metadata": {},
     "output_type": "execute_result"
    }
   ],
   "source": [
    "variances"
   ]
  },
  {
   "cell_type": "code",
   "execution_count": 96,
   "metadata": {},
   "outputs": [
    {
     "data": {
      "image/png": "[encoded data removed]",
      "text/plain": [
       "<Figure size 432x288 with 1 Axes>"
      ]
     },
     "metadata": {
      "needs_background": "light"
     },
     "output_type": "display_data"
    }
   ],
   "source": [
    "plt.bar([1,6,11,16,21], avgs, width=2, align='center', label='Average')\n",
    "plt.bar([3,8,13,18,23], medians, width=2, align='center', label='Median')\n",
    "plt.xticks([2,7,12,17,22], langs)\n",
    "plt.xlabel('Programming Language')\n",
    "plt.ylabel('Comment Density')\n",
    "plt.legend()\n",
    "plt.title('Comment Density in Different Languages')\n",
    "plt.savefig('result/figures/cd_by_lang.pdf', bbox_inches='tight')\n",
    "plt.show()"
   ]
  },
  {
   "cell_type": "markdown",
   "metadata": {},
   "source": [
    "## Difference in Comment Density for Different Type of Projects"
   ]
  },
  {
   "cell_type": "code",
   "execution_count": 97,
   "metadata": {},
   "outputs": [
    {
     "data": {
      "image/png": "[encoded data removed]",
      "text/plain": [
       "<Figure size 432x288 with 1 Axes>"
      ]
     },
     "metadata": {
      "needs_background": "light"
     },
     "output_type": "display_data"
    }
   ],
   "source": [
    "import numpy as np\n",
    "import matplotlib.pyplot as plt\n",
    "\n",
    "def extract(lang, type_):\n",
    "    return [float(row['comment_ratio']) \n",
    "         for row in csvData \n",
    "         if row['language'] == lang and row['type'] == type_]\n",
    "\n",
    "types = ['tutorial', 'framework', 'library', 'app']\n",
    "cd_java = [np.array(extract('Java', t)) for t in types];\n",
    "cd_js = [np.array(extract('JavaScript', t)) for t in types];\n",
    "avgs_java = [np.average(a) for a in cd_java]\n",
    "avgs_js = [np.average(a) for a in cd_js]\n",
    "\n",
    "\n",
    "\n",
    "plt.bar(types, avgs_js)\n",
    "plt.title('Average Comment Density in Different Type of Projects')\n",
    "plt.xlabel('Project Type')\n",
    "plt.ylabel('Comment Density')\n",
    "plt.savefig('result/figures/avg_cd_java_js.pdf')\n",
    "plt.show()"
   ]
  },
  {
   "cell_type": "code",
   "execution_count": null,
   "metadata": {},
   "outputs": [],
   "source": []
  }
 ],
 "metadata": {
  "kernelspec": {
   "display_name": "Python 3",
   "language": "python",
   "name": "python3"
  },
  "language_info": {
   "codemirror_mode": {
    "name": "ipython",
    "version": 3
   },
   "file_extension": ".py",
   "mimetype": "text/x-python",
   "name": "python",
   "nbconvert_exporter": "python",
   "pygments_lexer": "ipython3",
   "version": "3.6.8"
  }
 },
 "nbformat": 4,
 "nbformat_minor": 2
}
